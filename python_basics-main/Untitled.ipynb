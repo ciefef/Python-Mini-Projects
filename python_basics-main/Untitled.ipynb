{
 "cells": [
  {
   "cell_type": "code",
   "execution_count": 1,
   "id": "fbefd26b",
   "metadata": {},
   "outputs": [
    {
     "name": "stderr",
     "output_type": "stream",
     "text": [
      "  File \"C:\\Users\\PoojaAgrawal.AzureAD\\OneDrive - Open Weaver India Pvt Ltd\\Desktop\\python_basics-main (1)\\python_basics-main\\boolean.py\", line 1\n",
      "    print \"Python has 10 type of booleans\", True, \" and \", False\n",
      "          ^\n",
      "SyntaxError: Missing parentheses in call to 'print'. Did you mean print(\"Python has 10 type of booleans\", True, \" and \", False)?\n"
     ]
    }
   ],
   "source": [
    "!python boolean.py"
   ]
  }
 ],
 "metadata": {
  "kernelspec": {
   "display_name": "Python 3 (ipykernel)",
   "language": "python",
   "name": "python3"
  },
  "language_info": {
   "codemirror_mode": {
    "name": "ipython",
    "version": 3
   },
   "file_extension": ".py",
   "mimetype": "text/x-python",
   "name": "python",
   "nbconvert_exporter": "python",
   "pygments_lexer": "ipython3",
   "version": "3.9.8"
  }
 },
 "nbformat": 4,
 "nbformat_minor": 5
}
