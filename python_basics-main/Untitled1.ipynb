{
 "cells": [
  {
   "cell_type": "code",
   "execution_count": 1,
   "id": "af60d222",
   "metadata": {},
   "outputs": [
    {
     "name": "stdout",
     "output_type": "stream",
     "text": [
      "\n",
      "Printing the phonebook\n",
      "{'joe': '568-564-1109', 'ashish': '657-097-7862'}\n",
      "\n",
      "Printing joe's phone number\n",
      "\n",
      "Adding an element to the phonebook\n",
      "\n",
      "Printing the phone number of the newly added contact joel\n",
      "657\n",
      "\n",
      "Itearating across the phonebook with it's keys\n",
      "joe 568-564-1109\n",
      "ashish 657-097-7862\n",
      "joel 657\n",
      "\n",
      "Here's how we remove an element from the dictionary - removing 'joel'\n",
      "\n",
      "Iterating across the phonebook with key and value\n",
      "joe 568-564-1109\n",
      "ashish 657-097-7862\n"
     ]
    }
   ],
   "source": [
    "!python dictionary.py"
   ]
  }
 ],
 "metadata": {
  "kernelspec": {
   "display_name": "Python 3 (ipykernel)",
   "language": "python",
   "name": "python3"
  },
  "language_info": {
   "codemirror_mode": {
    "name": "ipython",
    "version": 3
   },
   "file_extension": ".py",
   "mimetype": "text/x-python",
   "name": "python",
   "nbconvert_exporter": "python",
   "pygments_lexer": "ipython3",
   "version": "3.9.8"
  }
 },
 "nbformat": 4,
 "nbformat_minor": 5
}
